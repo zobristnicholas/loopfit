{
 "cells": [
  {
   "cell_type": "markdown",
   "metadata": {
    "collapsed": true,
    "pycharm": {
     "name": "#%% md\n"
    }
   },
   "source": [
    "# Fit Example\n",
    "This notebook will go through fitting data from Sonnet to the loop model.\n",
    "For more detailed information, checkout the docstrings for each function.\n",
    "\n",
    "We start with the standard import statements. (matplotlib is not a requirement\n",
    "for this library, so it must be installed separately for this notebook to run)."
   ]
  },
  {
   "cell_type": "code",
   "execution_count": 1,
   "outputs": [],
   "source": [
    "import pathlib\n",
    "import numpy as np\n",
    "import loopfit as lf\n",
    "import matplotlib.pyplot as plt\n",
    "\n",
    "%matplotlib inline"
   ],
   "metadata": {
    "collapsed": false,
    "pycharm": {
     "name": "#%%\n"
    }
   }
  },
  {
   "cell_type": "markdown",
   "source": [
    "First we have to load in the data from Sonnet. One of the most common Sonnet\n",
    "output file types is the touchstone format, which is also used with many\n",
    "network analyzers. `loopfit` comes with a utility to load these files."
   ],
   "metadata": {
    "collapsed": false
   }
  },
  {
   "cell_type": "code",
   "execution_count": 2,
   "outputs": [],
   "source": [
    "folder = pathlib.Path().parent.absolute()\n",
    "f, i, q = lf.load_touchstone(folder / \"sonnet_resonator_data.ts\")"
   ],
   "metadata": {
    "collapsed": false,
    "pycharm": {
     "name": "#%%\n"
    }
   }
  },
  {
   "cell_type": "markdown",
   "source": [
    "Next we create a guess and fit the data. Note how phase0 and phase1 are fixed\n",
    "in the guess. Sonnet simulations with very low loss will often confuse the\n",
    "phase estimation, so it's better to fix it. For simulations with short\n",
    "transmission lines, the phase offset and delay are typically near zero."
   ],
   "metadata": {
    "collapsed": false,
    "pycharm": {
     "name": "#%% md\n"
    }
   }
  },
  {
   "cell_type": "code",
   "execution_count": 3,
   "outputs": [
    {
     "name": "stdout",
     "output_type": "stream",
     "text": [
      "Solver Summary (v 2.0.0-eigen-(3.4.0)-lapack-suitesparse-(5.10.1)-cxsparse-(3.2.0)-eigensparse-no_openmp)\n",
      "\n",
      "                                     Original                  Reduced\n",
      "Parameter blocks                            5                        2\n",
      "Parameters                                 14                        9\n",
      "Residual blocks                           950                      950\n",
      "Residuals                                1900                     1900\n",
      "\n",
      "Minimizer                        TRUST_REGION\n",
      "\n",
      "Dense linear algebra library            EIGEN\n",
      "Trust region strategy     LEVENBERG_MARQUARDT\n",
      "\n",
      "                                        Given                     Used\n",
      "Linear solver                        DENSE_QR                 DENSE_QR\n",
      "Threads                                     1                        1\n",
      "Linear solver ordering              AUTOMATIC                        2\n",
      "\n",
      "Cost:\n",
      "Initial                          2.160576e+00\n",
      "Final                            1.221718e-05\n",
      "Change                           2.160564e+00\n",
      "\n",
      "Minimizer iterations                       18\n",
      "Successful steps                           18\n",
      "Unsuccessful steps                          0\n",
      "Line search steps                           0\n",
      "\n",
      "Time (in seconds):\n",
      "Preprocessor                         0.000162\n",
      "\n",
      "  Residual only evaluation           0.001487 (18)\n",
      "    Line search cost evaluation      0.000000\n",
      "  Jacobian & residual evaluation     0.013881 (36)\n",
      "    Line search gradient evaluation   0.006657\n",
      "  Linear solver                      0.001543 (18)\n",
      "  Line search polynomial minimization  0.000000\n",
      "Minimizer                            0.017371\n",
      "\n",
      "Postprocessor                        0.000010\n",
      "Total                                0.017543\n",
      "\n",
      "Termination:                      CONVERGENCE (Function tolerance reached. |cost_change|/cost: 2.430319e-08 <= 1.000000e-06)\n"
     ]
    }
   ],
   "source": [
    "guess = lf.guess(f, i ,q, phase0=0, phase1=0)\n",
    "result = lf.fit(f, i, q, **guess)\n",
    "print(result['summary'])"
   ],
   "metadata": {
    "collapsed": false,
    "pycharm": {
     "name": "#%%\n"
    }
   }
  },
  {
   "cell_type": "markdown",
   "source": [
    "The fit can be plotted by evaluating the model at the desired frequencies. All\n",
    "the fit parameters are contained in the results dictionary."
   ],
   "metadata": {
    "collapsed": false,
    "pycharm": {
     "name": "#%% md\n"
    }
   }
  },
  {
   "cell_type": "code",
   "execution_count": 4,
   "outputs": [
    {
     "name": "stdout",
     "output_type": "stream",
     "text": [
      "f0: 5.94762 qi: 2.28908e+06 qc: 43414.3\n"
     ]
    },
    {
     "data": {
      "text/plain": "<Figure size 432x288 with 1 Axes>",
      "image/png": "[encoded data removed]"
     },
     "metadata": {
      "needs_background": "light"
     },
     "output_type": "display_data"
    }
   ],
   "source": [
    "model = lf.model(f, **result)\n",
    "plt.plot(i, q, 'o', markersize=2, label='data')\n",
    "plt.plot(model.real, model.imag, label='fit')\n",
    "plt.legend()\n",
    "plt.axis('equal')\n",
    "keys = [\"f0\", \"qi\", \"qc\"]\n",
    "print(*[key + f\": {result[key]:g}\" for key in keys])"
   ],
   "metadata": {
    "collapsed": false,
    "pycharm": {
     "name": "#%%\n"
    }
   }
  }
 ],
 "metadata": {
  "kernelspec": {
   "display_name": "Python 3",
   "language": "python",
   "name": "python3"
  },
  "language_info": {
   "codemirror_mode": {
    "name": "ipython",
    "version": 2
   },
   "file_extension": ".py",
   "mimetype": "text/x-python",
   "name": "python",
   "nbconvert_exporter": "python",
   "pygments_lexer": "ipython2",
   "version": "2.7.6"
  }
 },
 "nbformat": 4,
 "nbformat_minor": 0
}