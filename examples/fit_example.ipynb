{
 "cells": [
  {
   "cell_type": "markdown",
   "source": [
    "# Fit Example\n",
    "This notebook will go through the basic example of fitting data to the loop model. For more detailed information,\n",
    "checkout the docstrings for each function.\n",
    "\n",
    "We start with the standard import statements. (matplotlib is not a requirement for this library so it must be installed\n",
    "separately for this notebook to run)."
   ],
   "metadata": {
    "collapsed": false,
    "pycharm": {
     "name": "#%% md\n"
    }
   }
  },
  {
   "cell_type": "code",
   "execution_count": 1,
   "metadata": {
    "collapsed": true
   },
   "outputs": [],
   "source": [
    "import numpy as np\n",
    "import loopfit as lf\n",
    "import matplotlib.pyplot as plt\n",
    "\n",
    "%matplotlib inline"
   ]
  },
  {
   "cell_type": "markdown",
   "source": [
    "First we have to generate some fake data. Lets define the true loop parameters first. Note that we've added distortions\n",
    "from an IQ mixer as well as gain and phase polynomials introduced by our hypothetical cabling and amplifiers.\n"
   ],
   "metadata": {
    "collapsed": false,
    "pycharm": {
     "name": "#%% md\n"
    }
   }
  },
  {
   "cell_type": "code",
   "execution_count": 2,
   "outputs": [],
   "source": [
    "true_params = {'f0': 4.0012,  # resonance frequency\n",
    "               'qi': 100000,  # internal quality factor\n",
    "               'qc': 30000,  # coupling quality factor\n",
    "               'xa': 5e-6,  # resonance fractional asymmetry\n",
    "               'a': 0.8,  # inductive nonlinearity\n",
    "               'alpha': 1.2,  # IQ mixer amplitude imbalance\n",
    "               'beta': 0.2,  # IQ mixer phase imbalance\n",
    "               'gain0': 3.0,  # gain polynomial coefficients\n",
    "               'gain1': 1000.0,\n",
    "               'gain2': 500000.0,\n",
    "               'phase0': 2.0,  # phase polynomial coefficients\n",
    "               'phase1': -1000.0}"
   ],
   "metadata": {
    "collapsed": false,
    "pycharm": {
     "name": "#%%\n"
    }
   }
  },
  {
   "cell_type": "markdown",
   "source": [
    "Now we can generate our fake data using the model() function. In a real example we would be starting with this data."
   ],
   "metadata": {
    "collapsed": false
   }
  },
  {
   "cell_type": "code",
   "execution_count": 3,
   "outputs": [],
   "source": [
    "f = np.linspace(4, 4 + 0.002, 1000)\n",
    "rs = np.random.RandomState(0)\n",
    "z = lf.model(f, **true_params)\n",
    "z += rs.normal(0, 0.02, z.shape) + 1j * rs.normal(0, 0.02, z.shape)"
   ],
   "metadata": {
    "collapsed": false,
    "pycharm": {
     "name": "#%%\n"
    }
   }
  },
  {
   "cell_type": "markdown",
   "source": [
    "Fitting is as simple as generating a guess and then calling the fit.\n",
    "\n",
    "The nonlinear and imbalance parameters are used to\n",
    "tell the code that we want to include nonlinearity and the IQ mixer imbalance in the fit."
   ],
   "metadata": {
    "collapsed": false,
    "pycharm": {
     "name": "#%% md\n"
    }
   }
  },
  {
   "cell_type": "code",
   "execution_count": 4,
   "outputs": [],
   "source": [
    "init_params = lf.guess(f, z.real, z.imag, nonlinear=True)\n",
    "result = lf.fit(f, z.real, z.imag, nonlinear=True, imbalance=True,\n",
    "                **init_params)"
   ],
   "metadata": {
    "collapsed": false,
    "pycharm": {
     "name": "#%%\n"
    }
   }
  },
  {
   "cell_type": "markdown",
   "source": [
    "Plotting the data shows that the fit converged."
   ],
   "metadata": {
    "collapsed": false,
    "pycharm": {
     "name": "#%% md\n"
    }
   }
  },
  {
   "cell_type": "code",
   "execution_count": 5,
   "outputs": [
    {
     "data": {
      "text/plain": "<Figure size 432x288 with 1 Axes>",
      "image/png": "[encoded data removed]"
     },
     "metadata": {
      "needs_background": "light"
     },
     "output_type": "display_data"
    }
   ],
   "source": [
    "plt.plot(z.real, z.imag, 'o', markersize=2, label='data')\n",
    "\n",
    "\n",
    "model_init = lf.model(f, **init_params)\n",
    "plt.plot(model_init.real, model_init.imag, 'k--', label='init')\n",
    "\n",
    "model = lf.model(f, **true_params)\n",
    "plt.plot(model.real, model.imag, label='true')\n",
    "\n",
    "model_fit = lf.model(f, **result)\n",
    "plt.plot(model_fit.real, model_fit.imag, '--', label='fit')\n",
    "\n",
    "plt.legend()\n",
    "plt.axis('equal');"
   ],
   "metadata": {
    "collapsed": false,
    "pycharm": {
     "name": "#%%\n"
    }
   }
  },
  {
   "cell_type": "markdown",
   "source": [
    "The fit results are close to the true values."
   ],
   "metadata": {
    "collapsed": false,
    "pycharm": {
     "name": "#%% md\n"
    }
   }
  },
  {
   "cell_type": "code",
   "execution_count": 6,
   "outputs": [
    {
     "name": "stdout",
     "output_type": "stream",
     "text": [
      "parameter       true           fit\n",
      "------------------------------------------\n",
      "f0:             4.0012         4.0012\n",
      "qi:             100000         99045\n",
      "qc:             30000          30042.5\n",
      "xa:             5e-06          5.04639e-06\n",
      "a:              0.8            0.798553\n",
      "alpha:          1.2            1.20037\n",
      "beta:           0.2            0.201933\n",
      "gain0:          3              3.00366\n",
      "gain1:          1000           992.332\n",
      "gain2:          500000         465901\n",
      "phase0:         2              1.99959\n",
      "phase1:         -1000          -998.295\n"
     ]
    }
   ],
   "source": [
    "print(\"parameter       true           fit\")\n",
    "print(\"------------------------------------------\")\n",
    "for key, value in true_params.items():\n",
    "    true = f\"{value:g}\"\n",
    "    fit = f\"{result[key]:g}\"\n",
    "    print(key + \":\" + (15 - len(key)) * \" \" + true + (15 - len(true)) * \" \" + fit)"
   ],
   "metadata": {
    "collapsed": false,
    "pycharm": {
     "name": "#%%\n"
    }
   }
  },
  {
   "cell_type": "markdown",
   "source": [
    "We can also print the Ceres Solver fit summary."
   ],
   "metadata": {
    "collapsed": false,
    "pycharm": {
     "name": "#%% md\n"
    }
   }
  },
  {
   "cell_type": "code",
   "execution_count": 7,
   "outputs": [
    {
     "name": "stdout",
     "output_type": "stream",
     "text": [
      "Solver Summary (v 1.14.0-eigen-(3.3.7)-lapack-suitesparse-(5.7.2)-cxsparse-(3.1.9)-eigensparse-no_openmp-no_tbb)\n",
      "\n",
      "                                     Original                  Reduced\n",
      "Parameter blocks                            5                        4\n",
      "Parameters                                 14                       12\n",
      "Residual blocks                          1000                     1000\n",
      "Residuals                                2000                     2000\n",
      "\n",
      "Minimizer                        TRUST_REGION\n",
      "\n",
      "Dense linear algebra library            EIGEN\n",
      "Trust region strategy     LEVENBERG_MARQUARDT\n",
      "\n",
      "                                        Given                     Used\n",
      "Linear solver                        DENSE_QR                 DENSE_QR\n",
      "Threads                                     1                        1\n",
      "Linear solver ordering              AUTOMATIC                        4\n",
      "\n",
      "Cost:\n",
      "Initial                          1.106782e+02\n",
      "Final                            3.809726e-01\n",
      "Change                           1.102972e+02\n",
      "\n",
      "Minimizer iterations                       18\n",
      "Successful steps                           18\n",
      "Unsuccessful steps                          0\n",
      "Line search steps                           7\n",
      "\n",
      "Time (in seconds):\n",
      "Preprocessor                         0.000188\n",
      "\n",
      "  Residual only evaluation           0.004498 (18)\n",
      "    Line search cost evaluation      0.000000\n",
      "  Jacobian & residual evaluation     0.047623 (43)\n",
      "    Line search gradient evaluation   0.026695\n",
      "  Linear solver                      0.004268 (18)\n",
      "  Line search polynomial minimization  0.000077\n",
      "Minimizer                            0.057347\n",
      "\n",
      "Postprocessor                        0.000015\n",
      "Total                                0.057550\n",
      "\n",
      "Termination:                      CONVERGENCE (Function tolerance reached. |cost_change|/cost: 2.899365e-07 <= 1.000000e-06)\n"
     ]
    }
   ],
   "source": [
    "print(result['summary'])"
   ],
   "metadata": {
    "collapsed": false,
    "pycharm": {
     "name": "#%%\n"
    }
   }
  }
 ],
 "metadata": {
  "kernelspec": {
   "display_name": "Python 3",
   "language": "python",
   "name": "python3"
  },
  "language_info": {
   "codemirror_mode": {
    "name": "ipython",
    "version": 2
   },
   "file_extension": ".py",
   "mimetype": "text/x-python",
   "name": "python",
   "nbconvert_exporter": "python",
   "pygments_lexer": "ipython2",
   "version": "2.7.6"
  }
 },
 "nbformat": 4,
 "nbformat_minor": 0
}