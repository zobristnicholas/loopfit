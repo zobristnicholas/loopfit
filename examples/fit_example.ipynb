{
 "cells": [
  {
   "cell_type": "code",
   "execution_count": 5,
   "metadata": {
    "collapsed": true
   },
   "outputs": [
    {
     "name": "stderr",
     "output_type": "stream",
     "text": [
      "DEBUG:matplotlib.pyplot:Loaded backend module://ipykernel.pylab.backend_inline version unknown.\n"
     ]
    }
   ],
   "source": [
    "import numpy as np\n",
    "import loopfit as lf\n",
    "import matplotlib.pyplot as plt\n",
    "\n",
    "%matplotlib inline"
   ]
  },
  {
   "cell_type": "code",
   "execution_count": 6,
   "outputs": [],
   "source": [
    "f = np.linspace(4, 4 + 0.002, 1000)\n",
    "true_params = {'f0': 4.0012,  # resonance frequency\n",
    "               'qi': 100000,  # internal quality factor\n",
    "               'qc': 30000,  # coupling quality factor\n",
    "               'xa': 5e-6,  # resonance fractional asymmetry\n",
    "               'a': 0.8,  # inductive nonlinearity\n",
    "               'alpha': 1.2,  # IQ mixer amplitude imbalance\n",
    "               'beta': 0.2,  # IQ mixer phase imbalance\n",
    "               'gain0': 3.0,  # gain polynomial coefficients\n",
    "               'gain1': 1000.0,\n",
    "               'gain2': 50000.0,\n",
    "               'phase0': 2.0,  # phase polynomial coefficients\n",
    "               'phase1': -1000.0}"
   ],
   "metadata": {
    "collapsed": false,
    "pycharm": {
     "name": "#%%\n"
    }
   }
  },
  {
   "cell_type": "code",
   "execution_count": 7,
   "outputs": [
    {
     "data": {
      "text/plain": "<Figure size 432x288 with 1 Axes>",
      "image/png": "[encoded data removed]"
     },
     "metadata": {
      "needs_background": "light"
     },
     "output_type": "display_data"
    }
   ],
   "source": [
    "rs = np.random.RandomState(0)\n",
    "loop = lf.model(f, **true_params)\n",
    "loop += rs.normal(0, 0.02, loop.shape) + 1j * rs.normal(0, 0.02, loop.shape)\n",
    "\n",
    "plt.plot(loop.real, loop.imag, 'o', markersize=2)\n",
    "plt.axis('equal');"
   ],
   "metadata": {
    "collapsed": false,
    "pycharm": {
     "name": "#%%\n"
    }
   }
  },
  {
   "cell_type": "code",
   "execution_count": 8,
   "outputs": [
    {
     "name": "stderr",
     "output_type": "stream",
     "text": [
      "DEBUG:loopfit._wrap:Solver Summary (v 1.14.0-eigen-(3.3.7)-lapack-suitesparse-(5.7.2)-cxsparse-(3.1.9)-eigensparse-no_openmp-no_tbb)\n",
      "\n",
      "                                     Original                  Reduced\n",
      "Parameter blocks                            5                        4\n",
      "Parameters                                 14                       12\n",
      "Residual blocks                          1000                     1000\n",
      "Residuals                                2000                     2000\n",
      "\n",
      "Minimizer                        TRUST_REGION\n",
      "\n",
      "Dense linear algebra library            EIGEN\n",
      "Trust region strategy     LEVENBERG_MARQUARDT\n",
      "\n",
      "                                        Given                     Used\n",
      "Linear solver                        DENSE_QR                 DENSE_QR\n",
      "Threads                                     1                        1\n",
      "Linear solver ordering              AUTOMATIC                        4\n",
      "\n",
      "Cost:\n",
      "Initial                          1.105411e+02\n",
      "Final                            3.809731e-01\n",
      "Change                           1.101601e+02\n",
      "\n",
      "Minimizer iterations                       18\n",
      "Successful steps                           18\n",
      "Unsuccessful steps                          0\n",
      "Line search steps                           7\n",
      "\n",
      "Time (in seconds):\n",
      "Preprocessor                         0.000233\n",
      "\n",
      "  Residual only evaluation           0.004805 (18)\n",
      "    Line search cost evaluation      0.000000\n",
      "  Jacobian & residual evaluation     0.053535 (43)\n",
      "    Line search gradient evaluation   0.030143\n",
      "  Linear solver                      0.004874 (18)\n",
      "  Line search polynomial minimization  0.000082\n",
      "Minimizer                            0.064315\n",
      "\n",
      "Postprocessor                        0.000017\n",
      "Total                                0.064565\n",
      "\n",
      "Termination:                      CONVERGENCE (Function tolerance reached. |cost_change|/cost: 3.404495e-07 <= 1.000000e-06)\n"
     ]
    },
    {
     "data": {
      "text/plain": "<Figure size 432x288 with 1 Axes>",
      "image/png": "[encoded data removed]"
     },
     "metadata": {
      "needs_background": "light"
     },
     "output_type": "display_data"
    }
   ],
   "source": [
    "init_params = lf.guess(f, loop.real, loop.imag, nonlinear=True)\n",
    "result = lf.fit(f, loop.real, loop.imag, nonlinear=True, imbalance=True,\n",
    "                **init_params)\n",
    "\n",
    "plt.plot(loop.real, loop.imag, 'o', markersize=2, label='data')\n",
    "\n",
    "\n",
    "model_init = lf.model(f, **init_params)\n",
    "plt.plot(model_init.real, model_init.imag, 'k--', label='init')\n",
    "\n",
    "model = lf.model(f, **true_params)\n",
    "plt.plot(model.real, model.imag, label='true')\n",
    "\n",
    "model_fit = lf.model(f, **result)\n",
    "plt.plot(model_fit.real, model_fit.imag, '--', label='fit')\n",
    "\n",
    "plt.legend()\n",
    "plt.axis('equal');"
   ],
   "metadata": {
    "collapsed": false,
    "pycharm": {
     "name": "#%%\n"
    }
   }
  },
  {
   "cell_type": "code",
   "execution_count": 9,
   "outputs": [
    {
     "name": "stdout",
     "output_type": "stream",
     "text": [
      "Solver Summary (v 1.14.0-eigen-(3.3.7)-lapack-suitesparse-(5.7.2)-cxsparse-(3.1.9)-eigensparse-no_openmp-no_tbb)\n",
      "\n",
      "                                     Original                  Reduced\n",
      "Parameter blocks                            5                        4\n",
      "Parameters                                 14                       12\n",
      "Residual blocks                          1000                     1000\n",
      "Residuals                                2000                     2000\n",
      "\n",
      "Minimizer                        TRUST_REGION\n",
      "\n",
      "Dense linear algebra library            EIGEN\n",
      "Trust region strategy     LEVENBERG_MARQUARDT\n",
      "\n",
      "                                        Given                     Used\n",
      "Linear solver                        DENSE_QR                 DENSE_QR\n",
      "Threads                                     1                        1\n",
      "Linear solver ordering              AUTOMATIC                        4\n",
      "\n",
      "Cost:\n",
      "Initial                          1.105411e+02\n",
      "Final                            3.809731e-01\n",
      "Change                           1.101601e+02\n",
      "\n",
      "Minimizer iterations                       18\n",
      "Successful steps                           18\n",
      "Unsuccessful steps                          0\n",
      "Line search steps                           7\n",
      "\n",
      "Time (in seconds):\n",
      "Preprocessor                         0.000233\n",
      "\n",
      "  Residual only evaluation           0.004805 (18)\n",
      "    Line search cost evaluation      0.000000\n",
      "  Jacobian & residual evaluation     0.053535 (43)\n",
      "    Line search gradient evaluation   0.030143\n",
      "  Linear solver                      0.004874 (18)\n",
      "  Line search polynomial minimization  0.000082\n",
      "Minimizer                            0.064315\n",
      "\n",
      "Postprocessor                        0.000017\n",
      "Total                                0.064565\n",
      "\n",
      "Termination:                      CONVERGENCE (Function tolerance reached. |cost_change|/cost: 3.404495e-07 <= 1.000000e-06)\n"
     ]
    }
   ],
   "source": [
    "print(result['summary'])"
   ],
   "metadata": {
    "collapsed": false,
    "pycharm": {
     "name": "#%%\n"
    }
   }
  }
 ],
 "metadata": {
  "kernelspec": {
   "display_name": "Python 3",
   "language": "python",
   "name": "python3"
  },
  "language_info": {
   "codemirror_mode": {
    "name": "ipython",
    "version": 2
   },
   "file_extension": ".py",
   "mimetype": "text/x-python",
   "name": "python",
   "nbconvert_exporter": "python",
   "pygments_lexer": "ipython2",
   "version": "2.7.6"
  }
 },
 "nbformat": 4,
 "nbformat_minor": 0
}