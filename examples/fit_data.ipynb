{
 "cells": [
  {
   "cell_type": "markdown",
   "source": [
    "# Fit Example\n",
    "This notebook will go through the basic example of fitting data to the loop\n",
    "model. For more detailed information, checkout the docstrings for each\n",
    "function.\n",
    "\n",
    "We start with the standard import statements. (matplotlib is not a requirement\n",
    "for this library, so it must be installed separately for this notebook to run)."
   ],
   "metadata": {
    "collapsed": false,
    "pycharm": {
     "name": "#%% md\n"
    }
   }
  },
  {
   "cell_type": "code",
   "execution_count": 1,
   "metadata": {
    "collapsed": true
   },
   "outputs": [],
   "source": [
    "import numpy as np\n",
    "import loopfit as lf\n",
    "import matplotlib.pyplot as plt\n",
    "\n",
    "%matplotlib inline"
   ]
  },
  {
   "cell_type": "markdown",
   "source": [
    "First we have to generate some fake data. Lets define the true loop parameters first. Note that we've added distortions\n",
    "from an IQ mixer as well as gain and phase polynomials introduced by our hypothetical cabling and amplifiers.\n"
   ],
   "metadata": {
    "collapsed": false,
    "pycharm": {
     "name": "#%% md\n"
    }
   }
  },
  {
   "cell_type": "code",
   "execution_count": 2,
   "outputs": [],
   "source": [
    "true_params = {'f0': 4.0012,  # resonance frequency\n",
    "               'qi': 100000,  # internal quality factor\n",
    "               'qc': 30000,  # coupling quality factor\n",
    "               'xa': 5e-6,  # resonance fractional asymmetry\n",
    "               'a': 0.8,  # inductive nonlinearity\n",
    "               'alpha': 1.2,  # IQ mixer amplitude imbalance\n",
    "               'beta': 0.2,  # IQ mixer phase imbalance\n",
    "               'gain0': 3.0,  # gain polynomial coefficients\n",
    "               'gain1': 1000.0,\n",
    "               'gain2': 500000.0,\n",
    "               'phase0': 2.0,  # phase polynomial coefficients\n",
    "               'phase1': -1000.0}"
   ],
   "metadata": {
    "collapsed": false,
    "pycharm": {
     "name": "#%%\n"
    }
   }
  },
  {
   "cell_type": "markdown",
   "source": [
    "Now we can generate our fake data using the model() function. In a real example we would be starting with this data."
   ],
   "metadata": {
    "collapsed": false
   }
  },
  {
   "cell_type": "code",
   "execution_count": 3,
   "outputs": [],
   "source": [
    "f = np.linspace(4, 4 + 0.002, 1000)\n",
    "rs = np.random.RandomState(0)\n",
    "z = lf.model(f, **true_params)\n",
    "z += rs.normal(0, 0.02, z.shape) + 1j * rs.normal(0, 0.02, z.shape)"
   ],
   "metadata": {
    "collapsed": false,
    "pycharm": {
     "name": "#%%\n"
    }
   }
  },
  {
   "cell_type": "markdown",
   "source": [
    "Fitting is as simple as generating a guess and then calling the fit.\n",
    "\n",
    "The nonlinear and imbalance parameters are used to\n",
    "tell the code that we want to include nonlinearity and the IQ mixer imbalance in the fit."
   ],
   "metadata": {
    "collapsed": false,
    "pycharm": {
     "name": "#%% md\n"
    }
   }
  },
  {
   "cell_type": "code",
   "execution_count": 4,
   "outputs": [],
   "source": [
    "init_params = lf.guess(f, z.real, z.imag, nonlinear=True)\n",
    "result = lf.fit(f, z.real, z.imag, nonlinear=True, imbalance=True,\n",
    "                **init_params)"
   ],
   "metadata": {
    "collapsed": false,
    "pycharm": {
     "name": "#%%\n"
    }
   }
  },
  {
   "cell_type": "markdown",
   "source": [
    "Plotting the data shows that the fit converged."
   ],
   "metadata": {
    "collapsed": false,
    "pycharm": {
     "name": "#%% md\n"
    }
   }
  },
  {
   "cell_type": "code",
   "execution_count": 5,
   "outputs": [
    {
     "data": {
      "text/plain": "<Figure size 432x288 with 1 Axes>",
      "image/png": "[encoded data removed]"
     },
     "metadata": {
      "needs_background": "light"
     },
     "output_type": "display_data"
    }
   ],
   "source": [
    "plt.plot(z.real, z.imag, 'o', markersize=2, label='data')\n",
    "\n",
    "\n",
    "model_init = lf.model(f, **init_params)\n",
    "plt.plot(model_init.real, model_init.imag, 'k--', label='init')\n",
    "\n",
    "model = lf.model(f, **true_params)\n",
    "plt.plot(model.real, model.imag, label='true')\n",
    "\n",
    "model_fit = lf.model(f, **result)\n",
    "plt.plot(model_fit.real, model_fit.imag, '--', label='fit')\n",
    "\n",
    "plt.legend()\n",
    "plt.axis('equal');"
   ],
   "metadata": {
    "collapsed": false,
    "pycharm": {
     "name": "#%%\n"
    }
   }
  },
  {
   "cell_type": "markdown",
   "source": [
    "The fit results are close to the true values."
   ],
   "metadata": {
    "collapsed": false,
    "pycharm": {
     "name": "#%% md\n"
    }
   }
  },
  {
   "cell_type": "code",
   "execution_count": 6,
   "outputs": [
    {
     "name": "stdout",
     "output_type": "stream",
     "text": [
      "parameter       true           fit\n",
      "------------------------------------------\n",
      "f0:             4.0012         4.0012\n",
      "qi:             100000         99047.5\n",
      "qc:             30000          30043.1\n",
      "xa:             5e-06          5.04608e-06\n",
      "a:              0.8            0.798556\n",
      "alpha:          1.2            1.20035\n",
      "beta:           0.2            0.201946\n",
      "gain0:          3              3.00368\n",
      "gain1:          1000           992.374\n",
      "gain2:          500000         466779\n",
      "phase0:         2              1.99958\n",
      "phase1:         -1000          -998.273\n"
     ]
    }
   ],
   "source": [
    "print(\"parameter       true           fit\")\n",
    "print(\"------------------------------------------\")\n",
    "for key, value in true_params.items():\n",
    "    true = f\"{value:g}\"\n",
    "    fit = f\"{result[key]:g}\"\n",
    "    print(key + \":\" + (15 - len(key)) * \" \" + true + (15 - len(true)) * \" \" + fit)"
   ],
   "metadata": {
    "collapsed": false,
    "pycharm": {
     "name": "#%%\n"
    }
   }
  },
  {
   "cell_type": "markdown",
   "source": [
    "We can also print the Ceres Solver fit summary."
   ],
   "metadata": {
    "collapsed": false,
    "pycharm": {
     "name": "#%% md\n"
    }
   }
  },
  {
   "cell_type": "code",
   "execution_count": 7,
   "outputs": [
    {
     "name": "stdout",
     "output_type": "stream",
     "text": [
      "Solver Summary (v 2.0.0-eigen-(3.4.0)-lapack-suitesparse-(5.10.1)-cxsparse-(3.2.0)-eigensparse-no_openmp)\n",
      "\n",
      "                                     Original                  Reduced\n",
      "Parameter blocks                            5                        4\n",
      "Parameters                                 14                       12\n",
      "Residual blocks                          1000                     1000\n",
      "Residuals                                2000                     2000\n",
      "\n",
      "Minimizer                        TRUST_REGION\n",
      "\n",
      "Dense linear algebra library            EIGEN\n",
      "Trust region strategy     LEVENBERG_MARQUARDT\n",
      "\n",
      "                                        Given                     Used\n",
      "Linear solver                        DENSE_QR                 DENSE_QR\n",
      "Threads                                     1                        1\n",
      "Linear solver ordering              AUTOMATIC                        4\n",
      "\n",
      "Cost:\n",
      "Initial                          2.118414e+00\n",
      "Final                            7.291926e-03\n",
      "Change                           2.111122e+00\n",
      "\n",
      "Minimizer iterations                       14\n",
      "Successful steps                           14\n",
      "Unsuccessful steps                          0\n",
      "Line search steps                           2\n",
      "\n",
      "Time (in seconds):\n",
      "Preprocessor                         0.000128\n",
      "\n",
      "  Residual only evaluation           0.002316 (14)\n",
      "    Line search cost evaluation      0.000000\n",
      "  Jacobian & residual evaluation     0.020738 (30)\n",
      "    Line search gradient evaluation   0.010627\n",
      "  Linear solver                      0.001844 (14)\n",
      "  Line search polynomial minimization  0.000024\n",
      "Minimizer                            0.025325\n",
      "\n",
      "Postprocessor                        0.000010\n",
      "Total                                0.025463\n",
      "\n",
      "Termination:                      CONVERGENCE (Function tolerance reached. |cost_change|/cost: 3.432005e-09 <= 1.000000e-06)\n"
     ]
    }
   ],
   "source": [
    "print(result['summary'])"
   ],
   "metadata": {
    "collapsed": false,
    "pycharm": {
     "name": "#%%\n"
    }
   }
  }
 ],
 "metadata": {
  "kernelspec": {
   "display_name": "Python 3",
   "language": "python",
   "name": "python3"
  },
  "language_info": {
   "codemirror_mode": {
    "name": "ipython",
    "version": 2
   },
   "file_extension": ".py",
   "mimetype": "text/x-python",
   "name": "python",
   "nbconvert_exporter": "python",
   "pygments_lexer": "ipython2",
   "version": "2.7.6"
  }
 },
 "nbformat": 4,
 "nbformat_minor": 0
}